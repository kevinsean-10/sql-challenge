{
 "cells": [
  {
   "cell_type": "code",
   "execution_count": 1,
   "id": "2be84d95",
   "metadata": {
    "tags": []
   },
   "outputs": [],
   "source": [
    "import pandas as pd\n",
    "import numpy as np\n",
    "import time\n",
    "import requests"
   ]
  },
  {
   "cell_type": "code",
   "execution_count": 2,
   "id": "ca6edda4",
   "metadata": {
    "tags": []
   },
   "outputs": [],
   "source": [
    "from bs4 import BeautifulSoup\n",
    "from fake_useragent import UserAgent\n",
    "from selenium import webdriver\n",
    "from webdriver_manager.chrome import ChromeDriverManager\n",
    "from selenium.webdriver.chrome.options import Options\n",
    "from selenium.webdriver.remote.webelement import WebElement\n",
    "from selenium.webdriver.common.keys import Keys"
   ]
  },
  {
   "cell_type": "code",
   "execution_count": 3,
   "id": "a40c3819-dd87-46bf-857a-0a53e022eddb",
   "metadata": {
    "tags": []
   },
   "outputs": [],
   "source": [
    "pd.set_option('display.max_colwidth', None)"
   ]
  },
  {
   "cell_type": "code",
   "execution_count": 4,
   "id": "b8bc487d",
   "metadata": {
    "tags": []
   },
   "outputs": [],
   "source": [
    "user_agent = UserAgent()\n",
    "options = Options()\n",
    "# options.add_argument('--headless')\n",
    "options.add_argument('--disable-gpu')\n",
    "options.add_argument('--disable-extensions')\n",
    "options.add_argument('--disable-notifications')\n",
    "options.add_argument('--disable-popup-blocking')\n",
    "options.add_argument(f'user-agent={user_agent.random}')\n",
    "# options.add_argument('--incognito')\n",
    "options.add_experimental_option(\"prefs\", {\"profile.default_content_setting_values.geolocation\": 2})"
   ]
  },
  {
   "cell_type": "code",
   "execution_count": 5,
   "id": "f4664010",
   "metadata": {
    "tags": []
   },
   "outputs": [],
   "source": [
    "def getMobbiData(soup):\n",
    "    product_link = soup.find_all('a', class_='featured-car-product-link')\n",
    "    product_link = [\"www.mobbi.id\" + a['href'] for a in product_link]\n",
    "    product_link = list(set(product_link))\n",
    "\n",
    "    transmission = soup.find_all('div', {'data-product-transmission': True})\n",
    "    transmission = [a['data-product-transmission'] for a in transmission]\n",
    "\n",
    "    brand = soup.find_all('div', {'data-product-brand': True})\n",
    "    brand = [a['data-product-brand'] for a in brand]\n",
    "\n",
    "    model = soup.find_all('div', {'data-product-category': True})\n",
    "    model = [a['data-product-category'] for a in model]\n",
    "\n",
    "    variant = soup.find_all('div', {'data-product-variant': True})\n",
    "    variant = [a['data-product-variant'] for a in variant]\n",
    "\n",
    "    year = soup.find_all('div', {'data-product-year': True})\n",
    "    year = [a['data-product-year'] for a in year]\n",
    "\n",
    "    price = soup.find_all('div', {'data-product-price': True})\n",
    "    price = [a['data-product-price'] for a in price]\n",
    "\n",
    "    mileage = soup.find_all('div', {'data-product-mileage': True})\n",
    "    mileage = [a['data-product-mileage'] for a in mileage]\n",
    "\n",
    "    location = soup.find_all('div', {'data-product-location': True})\n",
    "    location = [a['data-product-location'] for a in location]\n",
    "\n",
    "    # data_lengths = [len(product_link), len(transmission), len(brand), len(variant), len(price), len(year), len(model), len(mileage), len(location)]\n",
    "    # if len(set(data_lengths)) != 1:\n",
    "    #     print(\"Warning: Arrays have different lengths. Filling with NaN.\")\n",
    "    #     max_length = max(data_lengths)\n",
    "    #     for array in [product_link, transmission, brand, variant, price, year, model, mileage, location]:\n",
    "    #         while len(array) < max_length:\n",
    "    #             array.append(np.nan)\n",
    "                \n",
    "    df3 = pd.DataFrame({\n",
    "        'product_link': product_link,\n",
    "        'product_brand': brand,\n",
    "        'product_model': model,\n",
    "        'product_variant': variant,\n",
    "        'product_price (IDR)': price,\n",
    "        'product_transmission': transmission,\n",
    "        'product_mileage (KM)': mileage,\n",
    "        'production_year': year,\n",
    "        'product_location': location\n",
    "    })\n",
    "\n",
    "    return df3"
   ]
  },
  {
   "cell_type": "code",
   "execution_count": 6,
   "id": "4f1ffba3",
   "metadata": {
    "tags": []
   },
   "outputs": [],
   "source": [
    "data = pd.DataFrame()\n",
    "url = 'https://www.mobbi.id/'\n",
    "\n",
    "driver = webdriver.Chrome('chromedriver.exe', options=options)\n",
    "driver.get(url)\n",
    "soup = BeautifulSoup(driver.page_source, 'html.parser')\n",
    "time.sleep(5)\n",
    "\n",
    "#close banner\n",
    "driver.find_element_by_xpath(\"\"\"//*[@id=\"btnwClear\"]\"\"\").click()\n",
    "\n",
    "for i in range(1,4):\n",
    "    driver.find_element_by_xpath(\"\"\"//*[@id=\"headerNonIbid\"]/li/div/div/form/div/div[1]/input[1]\"\"\").click()\n",
    "    driver.find_element_by_xpath(f\"\"\"//*[@id=\"list-brand-search\"]/li[{i}]\"\"\").click()\n",
    "    \n",
    "    # Scroll down to load more content\n",
    "    SCROLL_PAUSE_TIME = 5\n",
    "\n",
    "    # Get scroll height\n",
    "    last_height = driver.execute_script(\"return document.body.scrollHeight\")\n",
    "\n",
    "    while True:\n",
    "        # Scroll down to bottom\n",
    "        driver.execute_script(\"window.scrollTo(0, document.body.scrollHeight);\")\n",
    "\n",
    "        # Wait to load page\n",
    "        time.sleep(SCROLL_PAUSE_TIME)\n",
    "\n",
    "        # Calculate new scroll height and compare with last scroll height\n",
    "        new_height = driver.execute_script(\"return document.body.scrollHeight\")\n",
    "        if new_height == last_height:\n",
    "            break\n",
    "        last_height = new_height\n",
    "\n",
    "    soup = BeautifulSoup(driver.page_source, 'html.parser')\n",
    "    output = getMobbiData(soup)\n",
    "    data = pd.concat([data, output])\n",
    "    data.reset_index(inplace=True, drop=True)\n",
    "    \n",
    "driver.quit()"
   ]
  },
  {
   "cell_type": "code",
   "execution_count": 7,
   "id": "dca40cf5-9192-4a29-b96a-25974deea556",
   "metadata": {},
   "outputs": [],
   "source": [
    "#DF CLEANING"
   ]
  },
  {
   "cell_type": "code",
   "execution_count": 8,
   "id": "6bc5a8e7-7755-4447-b81d-83df554e7db2",
   "metadata": {
    "tags": []
   },
   "outputs": [],
   "source": [
    "df_c = data.copy()"
   ]
  },
  {
   "cell_type": "code",
   "execution_count": 9,
   "id": "d2fc588a-e338-4081-bbe9-3529fcd076ec",
   "metadata": {
    "tags": []
   },
   "outputs": [
    {
     "name": "stdout",
     "output_type": "stream",
     "text": [
      "<class 'pandas.core.frame.DataFrame'>\n",
      "RangeIndex: 121 entries, 0 to 120\n",
      "Data columns (total 9 columns):\n",
      " #   Column                Non-Null Count  Dtype \n",
      "---  ------                --------------  ----- \n",
      " 0   product_link          121 non-null    object\n",
      " 1   product_brand         121 non-null    object\n",
      " 2   product_model         121 non-null    object\n",
      " 3   product_variant       121 non-null    object\n",
      " 4   product_price (IDR)   121 non-null    object\n",
      " 5   product_transmission  121 non-null    object\n",
      " 6   product_mileage (KM)  121 non-null    object\n",
      " 7   production_year       121 non-null    object\n",
      " 8   product_location      121 non-null    object\n",
      "dtypes: object(9)\n",
      "memory usage: 8.6+ KB\n"
     ]
    }
   ],
   "source": [
    "df_c.info()"
   ]
  },
  {
   "cell_type": "code",
   "execution_count": 10,
   "id": "6265daf9-d93c-455e-9c35-186d8cac1319",
   "metadata": {},
   "outputs": [],
   "source": [
    "df_c['product_price (IDR)'] = df_c['product_price (IDR)'].astype(float)"
   ]
  },
  {
   "cell_type": "code",
   "execution_count": 11,
   "id": "9dd8aa7b-9034-4dc3-bd4c-c26fcf83f668",
   "metadata": {
    "tags": []
   },
   "outputs": [],
   "source": [
    "df_c['product_transmission'] = df_c['product_transmission'].replace({'AT': 'Automatic', 'MT': 'Manual'})"
   ]
  },
  {
   "cell_type": "code",
   "execution_count": 12,
   "id": "b45cb63b-8a15-481e-aa94-60f38982675c",
   "metadata": {
    "tags": []
   },
   "outputs": [],
   "source": [
    "df_c['product_variant'] = df_c['product_variant'].str.replace(r'\\s*\\([^)]*\\)', '', regex=True)"
   ]
  },
  {
   "cell_type": "code",
   "execution_count": 13,
   "id": "87ef9519-0e8f-41c4-b48b-5033b28983a5",
   "metadata": {
    "tags": []
   },
   "outputs": [
    {
     "data": {
      "text/html": [
       "<div>\n",
       "<style scoped>\n",
       "    .dataframe tbody tr th:only-of-type {\n",
       "        vertical-align: middle;\n",
       "    }\n",
       "\n",
       "    .dataframe tbody tr th {\n",
       "        vertical-align: top;\n",
       "    }\n",
       "\n",
       "    .dataframe thead th {\n",
       "        text-align: right;\n",
       "    }\n",
       "</style>\n",
       "<table border=\"1\" class=\"dataframe\">\n",
       "  <thead>\n",
       "    <tr style=\"text-align: right;\">\n",
       "      <th></th>\n",
       "      <th>product_link</th>\n",
       "    </tr>\n",
       "    <tr>\n",
       "      <th>product_brand</th>\n",
       "      <th></th>\n",
       "    </tr>\n",
       "  </thead>\n",
       "  <tbody>\n",
       "    <tr>\n",
       "      <th>Daihatsu</th>\n",
       "      <td>67</td>\n",
       "    </tr>\n",
       "    <tr>\n",
       "      <th>Toyota</th>\n",
       "      <td>44</td>\n",
       "    </tr>\n",
       "    <tr>\n",
       "      <th>Honda</th>\n",
       "      <td>10</td>\n",
       "    </tr>\n",
       "  </tbody>\n",
       "</table>\n",
       "</div>"
      ],
      "text/plain": [
       "               product_link\n",
       "product_brand              \n",
       "Daihatsu                 67\n",
       "Toyota                   44\n",
       "Honda                    10"
      ]
     },
     "execution_count": 13,
     "metadata": {},
     "output_type": "execute_result"
    }
   ],
   "source": [
    "df_c.groupby(\"product_brand\").agg({\"product_link\":\"count\"}).sort_values(\"product_link\", ascending=False)"
   ]
  },
  {
   "cell_type": "code",
   "execution_count": 17,
   "id": "2ff4df00-a054-4bf9-9c22-82fe5123ffc1",
   "metadata": {
    "tags": []
   },
   "outputs": [
    {
     "name": "stdout",
     "output_type": "stream",
     "text": [
      "File berhasil diunduh\n"
     ]
    }
   ],
   "source": [
    "df_c.to_csv(\"Internship_Kiran_mobbi_data.csv\", index=False)\n",
    "print(\"File berhasil diunduh\")"
   ]
  },
  {
   "cell_type": "code",
   "execution_count": 19,
   "id": "a0a2a90e-2f37-4275-a90e-ef466182dc94",
   "metadata": {},
   "outputs": [],
   "source": [
    "import mysql.connector\n",
    "import sqlalchemy\n",
    "\n",
    "database_username = 'root'\n",
    "database_password = ''\n",
    "database_ip       = '127.0.0.1'\n",
    "database_name     = 'astra_dm_scraping'\n",
    "database_connection = sqlalchemy.create_engine('mysql+mysqlconnector://{0}:{1}@{2}/{3}'.\n",
    "                                               format(database_username, database_password, \n",
    "                                                      database_ip, database_name), pool_recycle=1, pool_timeout=57600).connect()\n",
    "\n",
    "df_c.to_sql(con=database_connection, name='internship_kiran_mobbi_scraping', if_exists='append', index=False, chunksize=100)\n",
    "database_connection.close()"
   ]
  },
  {
   "cell_type": "code",
   "execution_count": null,
   "id": "1a5dc0cb-5be4-486b-b8e3-453b227b7146",
   "metadata": {},
   "outputs": [],
   "source": []
  }
 ],
 "metadata": {
  "kernelspec": {
   "display_name": "Python 3 (ipykernel)",
   "language": "python",
   "name": "python3"
  },
  "language_info": {
   "codemirror_mode": {
    "name": "ipython",
    "version": 3
   },
   "file_extension": ".py",
   "mimetype": "text/x-python",
   "name": "python",
   "nbconvert_exporter": "python",
   "pygments_lexer": "ipython3",
   "version": "3.11.3"
  }
 },
 "nbformat": 4,
 "nbformat_minor": 5
}
